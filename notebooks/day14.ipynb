{
 "cells": [
  {
   "cell_type": "code",
   "execution_count": 14,
   "metadata": {},
   "outputs": [],
   "source": [
    "use std::convert::TryInto;\n",
    "use std::collections::HashMap;\n",
    "\n",
    "fn char_to_byte(c: char) -> u8 {\n",
    "    c as u8\n",
    "}\n",
    "\n",
    "fn parse_input(input: &str) -> (Vec<u8>, HashMap<(u8, u8), u8>) {\n",
    "    let mut lines = input.split('\\n');\n",
    "    let template: Vec<u8> = lines.next().unwrap().chars().map(char_to_byte).collect();\n",
    "\n",
    "    // skip line\n",
    "    lines.next();\n",
    "    \n",
    "    let mut rules = HashMap::new();\n",
    "    for line in lines {\n",
    "        let mut parts = line.split(\" -> \");\n",
    "        let mut left = parts.next().unwrap().chars().map(char_to_byte);\n",
    "        let right = char_to_byte(parts.next().unwrap().chars().next().unwrap());\n",
    "        rules.insert((left.next().unwrap(), left.next().unwrap()), right);\n",
    "    }\n",
    "\n",
    "    (template, rules)\n",
    "}"
   ]
  },
  {
   "cell_type": "code",
   "execution_count": 15,
   "metadata": {},
   "outputs": [
    {
     "data": {
      "text/plain": [
       "([70, 78, 70, 80, 80, 78, 75, 80, 80, 72, 83, 79, 75, 70, 70, 72, 79, 70, 79, 67], {(72, 78): 79, (80, 79): 80, (67, 72): 78, (66, 78): 72, (78, 86): 86, (86, 75): 80, (75, 78): 75, (79, 72): 70, (83, 72): 72, (80, 86): 78, (83, 67): 70, (80, 80): 78, (67, 70): 70, (83, 75): 78, (78, 75): 86, (83, 70): 78, (79, 78): 80, (79, 86): 80, (70, 75): 67, (79, 66): 72, (70, 70): 66, (80, 70): 86, (66, 86): 70, (75, 66): 70, (83, 66): 86, (83, 78): 80, (86, 80): 75, (66, 66): 75, (79, 67): 67, (75, 70): 67, (72, 66): 72, (79, 75): 67, (80, 78): 75, (80, 72): 72, (70, 66): 67, (86, 78): 79, (72, 72): 67, (72, 83): 70, (80, 83): 80, (78, 83): 78, (70, 67): 70, (86, 86): 66, (72, 80): 66, (67, 86): 80, (86, 66): 78, (72, 75): 80, (75, 72): 67, (79, 83): 66, (86, 79): 67, (67, 75): 67, (67, 79): 83, (78, 67): 78, (66, 83): 72, (70, 79): 67, (78, 66): 78, (79, 70): 67, (75, 75): 67, (67, 83): 67, (67, 80): 72, (72, 67): 80, (72, 79): 80, (83, 86): 67, (67, 78): 78, (86, 83): 66, (66, 75): 80, (70, 78): 79, (79, 80): 66, (67, 67): 66, (66, 79): 67, (75, 86): 72, (66, 72): 83, (78, 80): 80, (67, 66): 72, (66, 70): 79, (70, 80): 72, (75, 67): 70, (78, 70): 83, (70, 83): 66, (75, 83): 67, (70, 86): 72, (80, 75): 70, (83, 83): 70, (75, 80): 75, (86, 72): 86, (72, 86): 75, (86, 67): 78, (86, 70): 83, (72, 70): 79, (83, 79): 79, (78, 79): 66, (66, 80): 86, (78, 72): 86, (75, 79): 79, (78, 78): 86, (70, 72): 79, (83, 80): 78, (80, 66): 70, (80, 67): 72, (79, 79): 70, (66, 67): 78})"
      ]
     },
     "execution_count": 15,
     "metadata": {},
     "output_type": "execute_result"
    }
   ],
   "source": [
    "let inp = parse_input(\"FNFPPNKPPHSOKFFHOFOC\n",
    "\n",
    "VS -> B\n",
    "SV -> C\n",
    "PP -> N\n",
    "NS -> N\n",
    "BC -> N\n",
    "PB -> F\n",
    "BK -> P\n",
    "NV -> V\n",
    "KF -> C\n",
    "KS -> C\n",
    "PV -> N\n",
    "NF -> S\n",
    "PK -> F\n",
    "SC -> F\n",
    "KN -> K\n",
    "PN -> K\n",
    "OH -> F\n",
    "PS -> P\n",
    "FN -> O\n",
    "OP -> B\n",
    "FO -> C\n",
    "HS -> F\n",
    "VO -> C\n",
    "OS -> B\n",
    "PF -> V\n",
    "SB -> V\n",
    "KO -> O\n",
    "SK -> N\n",
    "KB -> F\n",
    "KH -> C\n",
    "CC -> B\n",
    "CS -> C\n",
    "OF -> C\n",
    "FS -> B\n",
    "FP -> H\n",
    "VN -> O\n",
    "NB -> N\n",
    "BS -> H\n",
    "PC -> H\n",
    "OO -> F\n",
    "BF -> O\n",
    "HC -> P\n",
    "BH -> S\n",
    "NP -> P\n",
    "FB -> C\n",
    "CB -> H\n",
    "BO -> C\n",
    "NN -> V\n",
    "SF -> N\n",
    "FC -> F\n",
    "KK -> C\n",
    "CN -> N\n",
    "BV -> F\n",
    "FK -> C\n",
    "CF -> F\n",
    "VV -> B\n",
    "VF -> S\n",
    "CK -> C\n",
    "OV -> P\n",
    "NC -> N\n",
    "SS -> F\n",
    "NK -> V\n",
    "HN -> O\n",
    "ON -> P\n",
    "FH -> O\n",
    "OB -> H\n",
    "SH -> H\n",
    "NH -> V\n",
    "FF -> B\n",
    "HP -> B\n",
    "PO -> P\n",
    "HB -> H\n",
    "CH -> N\n",
    "SN -> P\n",
    "HK -> P\n",
    "FV -> H\n",
    "SO -> O\n",
    "VH -> V\n",
    "BP -> V\n",
    "CV -> P\n",
    "KP -> K\n",
    "VB -> N\n",
    "HV -> K\n",
    "SP -> N\n",
    "HO -> P\n",
    "CP -> H\n",
    "VC -> N\n",
    "CO -> S\n",
    "BN -> H\n",
    "NO -> B\n",
    "HF -> O\n",
    "VP -> K\n",
    "KV -> H\n",
    "KC -> F\n",
    "HH -> C\n",
    "BB -> K\n",
    "VK -> P\n",
    "OK -> C\n",
    "OC -> C\n",
    "PH -> H\");\n",
    "inp"
   ]
  },
  {
   "cell_type": "code",
   "execution_count": 16,
   "metadata": {},
   "outputs": [
    {
     "data": {
      "text/plain": [
       "([78, 78, 67, 66], {(67, 67): 78, (72, 72): 78, (72, 66): 67, (78, 78): 67, (66, 78): 66, (66, 72): 72, (66, 67): 66, (72, 78): 67, (72, 67): 66, (67, 66): 72, (78, 66): 66, (66, 66): 78, (78, 67): 66, (67, 78): 67, (78, 72): 67, (67, 72): 66})"
      ]
     },
     "execution_count": 16,
     "metadata": {},
     "output_type": "execute_result"
    }
   ],
   "source": [
    "let sample = parse_input(\"NNCB\n",
    "\n",
    "CH -> B\n",
    "HH -> N\n",
    "CB -> H\n",
    "NH -> C\n",
    "HB -> C\n",
    "HC -> B\n",
    "HN -> C\n",
    "NN -> C\n",
    "BH -> H\n",
    "NC -> B\n",
    "NB -> B\n",
    "BN -> B\n",
    "BB -> N\n",
    "BC -> B\n",
    "CC -> N\n",
    "CN -> C\");\n",
    "sample"
   ]
  },
  {
   "cell_type": "code",
   "execution_count": 17,
   "metadata": {},
   "outputs": [],
   "source": [
    "fn polymerize(pattern: &[u8], rules: &HashMap<(u8, u8), u8>) -> Vec<u8> {\n",
    "    let mut result = Vec::with_capacity(pattern.len() * 2 - 1);\n",
    "    for x in pattern.windows(2) {\n",
    "        result.push(x[0]);\n",
    "        result.push(*rules.get(&(x[0], x[1])).unwrap());\n",
    "    }\n",
    "    result.push(*pattern.last().unwrap());\n",
    "    result\n",
    "}"
   ]
  },
  {
   "cell_type": "code",
   "execution_count": 18,
   "metadata": {},
   "outputs": [
    {
     "data": {
      "text/plain": [
       "\"NCNBCHB\""
      ]
     },
     "execution_count": 18,
     "metadata": {},
     "output_type": "execute_result"
    }
   ],
   "source": [
    "String::from_utf8(polymerize(&sample.0, &sample.1)).unwrap()"
   ]
  },
  {
   "cell_type": "code",
   "execution_count": 19,
   "metadata": {},
   "outputs": [],
   "source": [
    "fn solve(pattern: &[u8], rules: &HashMap<(u8, u8), u8>, step: usize) -> usize {\n",
    "    let mut pattern: Vec<u8> = pattern.into();\n",
    "    for _ in 0..step {\n",
    "        pattern = polymerize(&pattern, rules);\n",
    "    }\n",
    "    let mut counts: HashMap<u8, usize> = HashMap::new();\n",
    "    for i in pattern {\n",
    "        *counts.entry(i).or_default() += 1;\n",
    "    }\n",
    "    counts.iter().map(|(_, i)| *i).max().unwrap() - counts.iter().map(|(_, i)| *i).min().unwrap()\n",
    "}"
   ]
  },
  {
   "cell_type": "code",
   "execution_count": 20,
   "metadata": {},
   "outputs": [
    {
     "data": {
      "text/plain": [
       "1588"
      ]
     },
     "execution_count": 20,
     "metadata": {},
     "output_type": "execute_result"
    }
   ],
   "source": [
    "solve(&sample.0, &sample.1, 10)"
   ]
  },
  {
   "cell_type": "code",
   "execution_count": 21,
   "metadata": {},
   "outputs": [
    {
     "data": {
      "text/plain": [
       "2975"
      ]
     },
     "execution_count": 21,
     "metadata": {},
     "output_type": "execute_result"
    }
   ],
   "source": [
    "solve(&inp.0, &inp.1, 10)"
   ]
  },
  {
   "cell_type": "code",
   "execution_count": 22,
   "metadata": {},
   "outputs": [],
   "source": [
    "use std::ops::{Add, AddAssign};\n",
    "use std::convert::From;\n",
    "use std::fmt::{Debug, Formatter, Error};\n",
    "\n",
    "type Uint = usize;\n",
    "\n",
    "#[derive(Clone, Debug, Default)]\n",
    "struct ElemCount(HashMap<u8, usize>);\n",
    "\n",
    "impl Add for ElemCount {\n",
    "    type Output = ElemCount;\n",
    "    fn add(self, rhs: ElemCount) -> Self::Output {\n",
    "        let mut result = self.clone();\n",
    "        result += rhs;\n",
    "        result\n",
    "    }\n",
    "}\n",
    "\n",
    "impl AddAssign for ElemCount {\n",
    "    fn add_assign(&mut self, rhs: ElemCount) {\n",
    "        for (k, v) in rhs.0.iter() {\n",
    "            *self.0.entry(*k).or_default() += v;\n",
    "        }\n",
    "    }\n",
    "}\n",
    "\n",
    "impl From<[u8; 2]> for ElemCount {\n",
    "    fn from(pattern: [u8; 2]) -> Self {\n",
    "        let mut result = Self::default();\n",
    "        result.incr(pattern[0]);\n",
    "        result.incr(pattern[1]);\n",
    "        result\n",
    "    }\n",
    "}\n",
    "\n",
    "impl ElemCount {\n",
    "    fn solve(&self) -> Uint {\n",
    "        self.0.iter().map(|(_, i)| *i).max().unwrap() - self.0.iter().map(|(_, i)| *i).min().unwrap()\n",
    "    }\n",
    "\n",
    "    fn incr(&mut self, elem: u8) {\n",
    "        *self.0.entry(elem).or_default() += 1;\n",
    "    }\n",
    "\n",
    "    fn decr(&mut self, elem: u8) {\n",
    "        if self.0.get(&elem) == Some(&1) {\n",
    "            self.0.remove(&elem);\n",
    "        } else {\n",
    "            *self.0.entry(elem).or_default() -= 1;\n",
    "        }\n",
    "    }\n",
    "}\n",
    "\n",
    "assert_eq!(ElemCount::from([1, 2]).solve(), 0);\n",
    "assert_eq!((ElemCount::from([1, 2]) + ElemCount::from([1, 0])).solve(), 1);\n",
    "\n",
    "#[derive(Clone, Default)]\n",
    "struct Counter {\n",
    "    mem: HashMap<([u8; 2], usize), ElemCount>,\n",
    "    rules: HashMap<(u8, u8), u8>,\n",
    "}\n",
    "\n",
    "impl Debug for Counter {\n",
    "    fn fmt(&self, f: &mut Formatter<'_>) -> Result<(), Error> {\n",
    "        f.debug_map().entries(self.mem.iter().map(|(k, v)|\n",
    "            ((std::str::from_utf8(&k.0).unwrap(), k.1), v)\n",
    "        )).finish()\n",
    "    }\n",
    "}\n",
    "\n",
    "impl Counter {\n",
    "    fn new(rules: &HashMap<(u8, u8), u8>) -> Self {\n",
    "        Self {\n",
    "            mem: Default::default(),\n",
    "            rules: rules.clone(),\n",
    "        }\n",
    "    }\n",
    "\n",
    "    fn count(&mut self, pattern: [u8; 2], step: usize) -> ElemCount {\n",
    "        if step == 0 {\n",
    "            return pattern.into();\n",
    "        }\n",
    "        if let Some(ec) = self.mem.get(&(pattern, step)) {\n",
    "            return ec.clone();\n",
    "        }\n",
    "\n",
    "        let mut result = ElemCount::default();\n",
    "        let mid = *self.rules.get(&(pattern[0], pattern[1])).unwrap();\n",
    "        result += self.count([pattern[0], mid], step - 1);\n",
    "        result += self.count([mid, pattern[1]], step - 1);\n",
    "        result.decr(mid);\n",
    "\n",
    "        self.mem.insert((pattern, step), result.clone());\n",
    "        result\n",
    "    }\n",
    "\n",
    "    fn solve(&mut self, pattern: &[u8], step: usize) -> Uint {\n",
    "        let mut result = ElemCount::default();\n",
    "        for pair in pattern.windows(2) {\n",
    "            result += self.count([pair[0], pair[1]], step);\n",
    "            result.decr(pair[1]);\n",
    "        }\n",
    "        result.incr(*pattern.last().unwrap());\n",
    "        result.solve()\n",
    "    }\n",
    "}"
   ]
  },
  {
   "cell_type": "code",
   "execution_count": 23,
   "metadata": {},
   "outputs": [],
   "source": [
    "// assert_eq!(solve(&sample.0, &sample.1, 10), Counter::new(&sample.1).solve(&sample.0, 10));"
   ]
  },
  {
   "cell_type": "code",
   "execution_count": 24,
   "metadata": {},
   "outputs": [
    {
     "data": {
      "text/plain": [
       "2188189693529"
      ]
     },
     "execution_count": 24,
     "metadata": {},
     "output_type": "execute_result"
    }
   ],
   "source": [
    "Counter::new(&sample.1).solve(&sample.0, 40)"
   ]
  },
  {
   "cell_type": "code",
   "execution_count": 25,
   "metadata": {},
   "outputs": [
    {
     "name": "stderr",
     "output_type": "stream",
     "text": [
      "[src/lib.rs:263] i = 11\n",
      "[src/lib.rs:264] solve(&inp.0, &inp.1, i) = 5733\n",
      "[src/lib.rs:265] Counter::new(&inp.1).solve(&inp.0, i) = 5733\n"
     ]
    }
   ],
   "source": [
    "let mut i = 0;\n",
    "while i <= 10 && solve(&inp.0, &inp.1, i) == Counter::new(&inp.1).solve(&inp.0, i) {\n",
    "    i += 1;\n",
    "}\n",
    "dbg!(i);\n",
    "dbg!(solve(&inp.0, &inp.1, i));\n",
    "dbg!(Counter::new(&inp.1).solve(&inp.0, i));"
   ]
  },
  {
   "cell_type": "code",
   "execution_count": 26,
   "metadata": {},
   "outputs": [
    {
     "name": "stderr",
     "output_type": "stream",
     "text": [
      "[src/lib.rs:261] counter = {}\n"
     ]
    }
   ],
   "source": [
    "let mut counter = Counter::new(&inp.1);\n",
    "counter.solve(&inp.0, 0);\n",
    "dbg!(counter);"
   ]
  },
  {
   "cell_type": "code",
   "execution_count": 27,
   "metadata": {},
   "outputs": [],
   "source": [
    "assert_eq!(solve(&inp.0, &inp.1, 10), Counter::new(&inp.1).solve(&inp.0, 10));"
   ]
  },
  {
   "cell_type": "code",
   "execution_count": 28,
   "metadata": {},
   "outputs": [
    {
     "data": {
      "text/plain": [
       "3015383850689"
      ]
     },
     "execution_count": 28,
     "metadata": {},
     "output_type": "execute_result"
    }
   ],
   "source": [
    "Counter::new(&inp.1).solve(&inp.0, 40)"
   ]
  }
 ],
 "metadata": {
  "kernelspec": {
   "display_name": "Rust",
   "language": "rust",
   "name": "rust"
  },
  "language_info": {
   "codemirror_mode": "rust",
   "file_extension": ".rs",
   "mimetype": "text/rust",
   "name": "Rust",
   "pygment_lexer": "rust",
   "version": ""
  },
  "orig_nbformat": 4
 },
 "nbformat": 4,
 "nbformat_minor": 2
}
