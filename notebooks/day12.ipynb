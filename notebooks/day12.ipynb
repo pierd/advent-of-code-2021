{
 "cells": [
  {
   "cell_type": "code",
   "execution_count": 27,
   "metadata": {},
   "outputs": [],
   "source": [
    "fn parse_input(inp: &str) -> Vec<(&str, &str)> {\n",
    "    inp.split('\\n').map(|line| {\n",
    "        let mut parts = line.split('-').take(2);\n",
    "        (parts.next().unwrap(), parts.next().unwrap())\n",
    "    }).collect()\n",
    "}"
   ]
  },
  {
   "cell_type": "code",
   "execution_count": 28,
   "metadata": {},
   "outputs": [
    {
     "data": {
      "text/plain": [
       "[(\"nu\", \"start\"), (\"rt\", \"start\"), (\"db\", \"qh\"), (\"PE\", \"end\"), (\"sl\", \"rt\"), (\"qh\", \"end\"), (\"ZH\", \"rt\"), (\"nu\", \"rt\"), (\"PE\", \"db\"), (\"db\", \"sl\"), (\"nu\", \"ZH\"), (\"nu\", \"qh\"), (\"PE\", \"qh\"), (\"ZH\", \"db\"), (\"ne\", \"end\"), (\"ne\", \"ZH\"), (\"QG\", \"db\"), (\"qh\", \"sl\"), (\"ZH\", \"qh\"), (\"start\", \"ZH\"), (\"nu\", \"PE\"), (\"uf\", \"db\"), (\"ne\", \"sl\")]"
      ]
     },
     "execution_count": 28,
     "metadata": {},
     "output_type": "execute_result"
    }
   ],
   "source": [
    "let inp = parse_input(\"nu-start\n",
    "rt-start\n",
    "db-qh\n",
    "PE-end\n",
    "sl-rt\n",
    "qh-end\n",
    "ZH-rt\n",
    "nu-rt\n",
    "PE-db\n",
    "db-sl\n",
    "nu-ZH\n",
    "nu-qh\n",
    "PE-qh\n",
    "ZH-db\n",
    "ne-end\n",
    "ne-ZH\n",
    "QG-db\n",
    "qh-sl\n",
    "ZH-qh\n",
    "start-ZH\n",
    "nu-PE\n",
    "uf-db\n",
    "ne-sl\");\n",
    "inp"
   ]
  },
  {
   "cell_type": "code",
   "execution_count": 29,
   "metadata": {},
   "outputs": [],
   "source": [
    "use std::collections::{HashMap, HashSet, VecDeque};\n",
    "\n",
    "#[derive(Clone, Default, Debug)]\n",
    "struct Path<'a> {\n",
    "    path: Vec<&'a str>,\n",
    "    visited_small: HashSet<&'a str>,\n",
    "    visited_twice: bool,\n",
    "}\n",
    "\n",
    "fn is_small(elem: &str) -> bool {\n",
    "    elem.chars().next().map(char::is_lowercase).unwrap_or(false)\n",
    "}\n",
    "\n",
    "impl<'a> Path<'a> {\n",
    "    fn after_visiting(&self, elem: &'a str, allow_twice: bool) -> Option<Self> {\n",
    "        let already_visited = is_small(elem) && self.visited_small.contains(elem);\n",
    "        if !already_visited || (allow_twice && already_visited && !self.visited_twice) {\n",
    "            let mut path = self.path.clone();\n",
    "            path.push(elem);\n",
    "            let visited_twice = self.visited_twice || self.visited_small.contains(elem);\n",
    "            let mut visited_small = self.visited_small.clone();\n",
    "            if is_small(elem) {\n",
    "                visited_small.insert(elem);\n",
    "            }\n",
    "            Some(Self { path, visited_small, visited_twice })\n",
    "        } else {\n",
    "            None\n",
    "        }\n",
    "    }\n",
    "}"
   ]
  },
  {
   "cell_type": "code",
   "execution_count": 30,
   "metadata": {},
   "outputs": [],
   "source": [
    "fn solve<'a>(pairs: &[(&'a str, &'a str)], allow_twice: bool) -> Vec<Path<'a>> {\n",
    "    let mut full_paths = Vec::new();\n",
    "    \n",
    "    let mut neighbours: HashMap<&'a str, Vec<&'a str>> = Default::default();\n",
    "    for (a, b) in pairs {\n",
    "        if a != &\"end\" && b != &\"start\" {\n",
    "            neighbours.entry(a).or_default().push(b);\n",
    "        }\n",
    "        if b != &\"end\" && a != &\"start\" {\n",
    "            neighbours.entry(b).or_default().push(a);\n",
    "        }\n",
    "    }\n",
    "\n",
    "    let mut queue: VecDeque<Path<'a>> = Default::default();\n",
    "    queue.push_back(Path::default().after_visiting(\"start\", false).unwrap());\n",
    "    while let Some(path) = queue.pop_front() {\n",
    "        for neighbour in neighbours.get(path.path.last().unwrap()).unwrap_or(&vec![]) {\n",
    "            if let Some(new_path) = path.after_visiting(neighbour, allow_twice) {\n",
    "                if new_path.path.last().unwrap() == &\"end\" {\n",
    "                    full_paths.push(new_path);\n",
    "                } else {\n",
    "                    queue.push_back(new_path);\n",
    "                }\n",
    "            }\n",
    "        }\n",
    "    }\n",
    "\n",
    "    full_paths\n",
    "}"
   ]
  },
  {
   "cell_type": "code",
   "execution_count": 31,
   "metadata": {},
   "outputs": [
    {
     "name": "stderr",
     "output_type": "stream",
     "text": [
      "[src/lib.rs:232] solve(i, false).len() = 10\n",
      "[src/lib.rs:232] solve(i, false).len() = 19\n",
      "[src/lib.rs:232] solve(i, false).len() = 226\n"
     ]
    },
    {
     "data": {
      "text/plain": [
       "()"
      ]
     },
     "execution_count": 31,
     "metadata": {},
     "output_type": "execute_result"
    }
   ],
   "source": [
    "let sample1 = parse_input(\"start-A\n",
    "start-b\n",
    "A-c\n",
    "A-b\n",
    "b-d\n",
    "A-end\n",
    "b-end\");\n",
    "let sample2 = parse_input(\"dc-end\n",
    "HN-start\n",
    "start-kj\n",
    "dc-start\n",
    "dc-HN\n",
    "LN-dc\n",
    "HN-end\n",
    "kj-sa\n",
    "kj-HN\n",
    "kj-dc\");\n",
    "let sample3 = parse_input(\"fs-end\n",
    "he-DX\n",
    "fs-he\n",
    "start-DX\n",
    "pj-DX\n",
    "end-zg\n",
    "zg-sl\n",
    "zg-pj\n",
    "pj-he\n",
    "RW-he\n",
    "fs-DX\n",
    "pj-RW\n",
    "zg-RW\n",
    "start-pj\n",
    "he-WI\n",
    "zg-he\n",
    "pj-fs\n",
    "start-RW\");\n",
    "\n",
    "for i in [&sample1, &sample2, &sample3] {\n",
    "    dbg!(solve(i, false).len());\n",
    "}"
   ]
  },
  {
   "cell_type": "code",
   "execution_count": 32,
   "metadata": {},
   "outputs": [
    {
     "data": {
      "text/plain": [
       "4338"
      ]
     },
     "execution_count": 32,
     "metadata": {},
     "output_type": "execute_result"
    }
   ],
   "source": [
    "solve(&inp, false).len()"
   ]
  },
  {
   "cell_type": "code",
   "execution_count": 33,
   "metadata": {},
   "outputs": [
    {
     "name": "stderr",
     "output_type": "stream",
     "text": [
      "[src/lib.rs:196] solve(i, true).len() = 36\n",
      "[src/lib.rs:196] solve(i, true).len() = 103\n",
      "[src/lib.rs:196] solve(i, true).len() = 3509\n"
     ]
    },
    {
     "data": {
      "text/plain": [
       "()"
      ]
     },
     "execution_count": 33,
     "metadata": {},
     "output_type": "execute_result"
    }
   ],
   "source": [
    "for i in [&sample1, &sample2, &sample3] {\n",
    "    dbg!(solve(i, true).len());\n",
    "}"
   ]
  },
  {
   "cell_type": "code",
   "execution_count": 34,
   "metadata": {},
   "outputs": [
    {
     "data": {
      "text/plain": [
       "114189"
      ]
     },
     "execution_count": 34,
     "metadata": {},
     "output_type": "execute_result"
    }
   ],
   "source": [
    "solve(&inp, true).len()"
   ]
  }
 ],
 "metadata": {
  "kernelspec": {
   "display_name": "Rust",
   "language": "rust",
   "name": "rust"
  },
  "language_info": {
   "codemirror_mode": "rust",
   "file_extension": ".rs",
   "mimetype": "text/rust",
   "name": "Rust",
   "pygment_lexer": "rust",
   "version": ""
  },
  "orig_nbformat": 4
 },
 "nbformat": 4,
 "nbformat_minor": 2
}
