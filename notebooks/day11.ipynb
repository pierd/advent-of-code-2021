{
 "cells": [
  {
   "cell_type": "code",
   "execution_count": 63,
   "metadata": {},
   "outputs": [
    {
     "data": {
      "text/plain": [
       "[[3, 3, 2, 2, 8, 7, 4, 6, 5, 2],\n",
       " [5, 6, 3, 6, 5, 8, 8, 8, 5, 7],\n",
       " [7, 7, 5, 5, 1, 1, 7, 5, 4, 8],\n",
       " [5, 8, 5, 4, 1, 2, 1, 8, 3, 3],\n",
       " [2, 8, 5, 6, 6, 8, 2, 4, 7, 7],\n",
       " [3, 1, 2, 4, 8, 7, 3, 8, 1, 2],\n",
       " [1, 5, 4, 1, 3, 7, 2, 2, 5, 4],\n",
       " [8, 6, 3, 4, 3, 8, 3, 2, 3, 6],\n",
       " [2, 4, 2, 4, 3, 2, 3, 3, 4, 8],\n",
       " [2, 2, 6, 5, 6, 3, 5, 8, 4, 2]]"
      ]
     },
     "execution_count": 63,
     "metadata": {},
     "output_type": "execute_result"
    }
   ],
   "source": [
    "inp=[[int(i) for i in row] for row in '''3322874652\n",
    "5636588857\n",
    "7755117548\n",
    "5854121833\n",
    "2856682477\n",
    "3124873812\n",
    "1541372254\n",
    "8634383236\n",
    "2424323348\n",
    "2265635842'''.split('\\n')]\n",
    "inp"
   ]
  },
  {
   "cell_type": "code",
   "execution_count": 64,
   "metadata": {},
   "outputs": [
    {
     "data": {
      "text/plain": [
       "[[5, 4, 8, 3, 1, 4, 3, 2, 2, 3],\n",
       " [2, 7, 4, 5, 8, 5, 4, 7, 1, 1],\n",
       " [5, 2, 6, 4, 5, 5, 6, 1, 7, 3],\n",
       " [6, 1, 4, 1, 3, 3, 6, 1, 4, 6],\n",
       " [6, 3, 5, 7, 3, 8, 5, 4, 7, 8],\n",
       " [4, 1, 6, 7, 5, 2, 4, 6, 4, 5],\n",
       " [2, 1, 7, 6, 8, 4, 1, 7, 2, 1],\n",
       " [6, 8, 8, 2, 8, 8, 1, 1, 3, 4],\n",
       " [4, 8, 4, 6, 8, 4, 8, 5, 5, 4],\n",
       " [5, 2, 8, 3, 7, 5, 1, 5, 2, 6]]"
      ]
     },
     "execution_count": 64,
     "metadata": {},
     "output_type": "execute_result"
    }
   ],
   "source": [
    "sample=[[int(i) for i in row] for row in '''5483143223\n",
    "2745854711\n",
    "5264556173\n",
    "6141336146\n",
    "6357385478\n",
    "4167524645\n",
    "2176841721\n",
    "6882881134\n",
    "4846848554\n",
    "5283751526'''.split()]\n",
    "sample"
   ]
  },
  {
   "cell_type": "code",
   "execution_count": 65,
   "metadata": {},
   "outputs": [],
   "source": [
    "def step(octs):\n",
    "    flashed = set()\n",
    "    for row in range(len(octs)):\n",
    "        for col in range(len(octs[0])):\n",
    "            octs[row][col] += 1\n",
    "    \n",
    "    has_new_flashes = True\n",
    "    while has_new_flashes:\n",
    "        has_new_flashes = False\n",
    "        for row in range(len(octs)):\n",
    "            for col in range(len(octs[0])):\n",
    "                if octs[row][col] > 9 and (row, col) not in flashed:\n",
    "                    has_new_flashes = True\n",
    "                    flashed.add((row, col))\n",
    "                    for i in [-1, 0, 1]:\n",
    "                        for j in [-1, 0, 1]:\n",
    "                            if (i, j) != (0, 0):\n",
    "                                nrow = row + i\n",
    "                                ncol = col + j\n",
    "                                if nrow >= 0 and nrow < len(octs) and ncol >= 0 and ncol < len(octs[0]):\n",
    "                                    octs[nrow][ncol] += 1\n",
    "    \n",
    "    for row, col in flashed:\n",
    "        octs[row][col] = 0\n",
    "\n",
    "    return len(flashed)"
   ]
  },
  {
   "cell_type": "code",
   "execution_count": 66,
   "metadata": {},
   "outputs": [
    {
     "data": {
      "text/plain": [
       "1613"
      ]
     },
     "execution_count": 66,
     "metadata": {},
     "output_type": "execute_result"
    }
   ],
   "source": [
    "import copy\n",
    "octs = copy.deepcopy(inp)\n",
    "sum(step(octs) for _ in range(100))"
   ]
  },
  {
   "cell_type": "code",
   "execution_count": 67,
   "metadata": {},
   "outputs": [],
   "source": [
    "def all_flash_at_step(octs):\n",
    "    step_count = 1\n",
    "    while step(octs) != len(octs) * len(octs[0]):\n",
    "        step_count += 1\n",
    "    return step_count"
   ]
  },
  {
   "cell_type": "code",
   "execution_count": 68,
   "metadata": {},
   "outputs": [
    {
     "name": "stdout",
     "output_type": "stream",
     "text": [
      "195\n"
     ]
    },
    {
     "data": {
      "text/plain": [
       "[[0, 0, 0, 0, 0, 0, 0, 0, 0, 0],\n",
       " [0, 0, 0, 0, 0, 0, 0, 0, 0, 0],\n",
       " [0, 0, 0, 0, 0, 0, 0, 0, 0, 0],\n",
       " [0, 0, 0, 0, 0, 0, 0, 0, 0, 0],\n",
       " [0, 0, 0, 0, 0, 0, 0, 0, 0, 0],\n",
       " [0, 0, 0, 0, 0, 0, 0, 0, 0, 0],\n",
       " [0, 0, 0, 0, 0, 0, 0, 0, 0, 0],\n",
       " [0, 0, 0, 0, 0, 0, 0, 0, 0, 0],\n",
       " [0, 0, 0, 0, 0, 0, 0, 0, 0, 0],\n",
       " [0, 0, 0, 0, 0, 0, 0, 0, 0, 0]]"
      ]
     },
     "execution_count": 68,
     "metadata": {},
     "output_type": "execute_result"
    }
   ],
   "source": [
    "octs = copy.deepcopy(sample)\n",
    "print(all_flash_at_step(octs))\n",
    "octs"
   ]
  },
  {
   "cell_type": "code",
   "execution_count": 69,
   "metadata": {},
   "outputs": [
    {
     "name": "stdout",
     "output_type": "stream",
     "text": [
      "510\n"
     ]
    },
    {
     "data": {
      "text/plain": [
       "[[0, 0, 0, 0, 0, 0, 0, 0, 0, 0],\n",
       " [0, 0, 0, 0, 0, 0, 0, 0, 0, 0],\n",
       " [0, 0, 0, 0, 0, 0, 0, 0, 0, 0],\n",
       " [0, 0, 0, 0, 0, 0, 0, 0, 0, 0],\n",
       " [0, 0, 0, 0, 0, 0, 0, 0, 0, 0],\n",
       " [0, 0, 0, 0, 0, 0, 0, 0, 0, 0],\n",
       " [0, 0, 0, 0, 0, 0, 0, 0, 0, 0],\n",
       " [0, 0, 0, 0, 0, 0, 0, 0, 0, 0],\n",
       " [0, 0, 0, 0, 0, 0, 0, 0, 0, 0],\n",
       " [0, 0, 0, 0, 0, 0, 0, 0, 0, 0]]"
      ]
     },
     "execution_count": 69,
     "metadata": {},
     "output_type": "execute_result"
    }
   ],
   "source": [
    "octs = copy.deepcopy(inp)\n",
    "print(all_flash_at_step(octs))\n",
    "octs"
   ]
  }
 ],
 "metadata": {
  "interpreter": {
   "hash": "916dbcbb3f70747c44a77c7bcd40155683ae19c65e1c03b4aa3499c5328201f1"
  },
  "kernelspec": {
   "display_name": "Python 3.8.10 64-bit",
   "language": "python",
   "name": "python3"
  },
  "language_info": {
   "codemirror_mode": {
    "name": "ipython",
    "version": 3
   },
   "file_extension": ".py",
   "mimetype": "text/x-python",
   "name": "python",
   "nbconvert_exporter": "python",
   "pygments_lexer": "ipython3",
   "version": "3.8.10"
  },
  "orig_nbformat": 4
 },
 "nbformat": 4,
 "nbformat_minor": 2
}
